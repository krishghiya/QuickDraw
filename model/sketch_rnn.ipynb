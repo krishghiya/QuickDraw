{
  "nbformat": 4,
  "nbformat_minor": 0,
  "metadata": {
    "accelerator": "GPU",
    "colab": {
      "name": "sketch_rnn.ipynb",
      "provenance": [],
      "collapsed_sections": []
    },
    "kernelspec": {
      "display_name": "Python 3",
      "name": "python3"
    }
  },
  "cells": [
    {
      "cell_type": "markdown",
      "metadata": {
        "id": "y11jeMA_Dwbw"
      },
      "source": [
        "<table align=\"left\">\n",
        "  <td>\n",
        "    <a target=\"_blank\" href=\"\"><img src=\"https://www.tensorflow.org/images/colab_logo_32px.png\" />Run in Google Colab</a>\n",
        "  </td>\n",
        "</table>"
      ]
    },
    {
      "cell_type": "markdown",
      "metadata": {
        "id": "bsrtDgkuXx-R"
      },
      "source": [
        "# New Section"
      ]
    },
    {
      "cell_type": "code",
      "metadata": {
        "colab": {
          "base_uri": "https://localhost:8080/"
        },
        "id": "gNDczxroXqPQ",
        "outputId": "81d84e16-c159-4f54-b19a-147264fdb0e9"
      },
      "source": [
        "from tensorflow import keras\n",
        "from pathlib import Path\n",
        "\n",
        "DOWNLOAD_ROOT = \"http://download.tensorflow.org/data/\"\n",
        "FILENAME = \"quickdraw_tutorial_dataset_v1.tar.gz\"\n",
        "filepath = Path(\"C:\\\\Users\\\\kghiy\\\\.keras\\\\datasets\\\\quickdraw\\\\\"+\n",
        "                          FILENAME)\n",
        "if not Path.is_file(filepath):\n",
        "    filepath = keras.utils.get_file(FILENAME,\n",
        "                                DOWNLOAD_ROOT + FILENAME,\n",
        "                                cache_subdir=\"datasets/quickdraw\",\n",
        "                                extract=True)"
      ],
      "execution_count": null,
      "outputs": [
        {
          "output_type": "stream",
          "text": [
            "Downloading data from http://download.tensorflow.org/data/quickdraw_tutorial_dataset_v1.tar.gz\n",
            "1065304064/1065301781 [==============================] - 5s 0us/step\n"
          ],
          "name": "stdout"
        }
      ]
    },
    {
      "cell_type": "code",
      "metadata": {
        "colab": {
          "base_uri": "https://localhost:8080/"
        },
        "id": "_B8XiOIGXqPR",
        "outputId": "220420b6-aa31-4806-b9c6-cd0011d8f5b6"
      },
      "source": [
        "import os\n",
        "from pathlib import Path\n",
        "\n",
        "quickdraw_dir = Path(filepath).parent\n",
        "os.listdir(quickdraw_dir)"
      ],
      "execution_count": null,
      "outputs": [
        {
          "output_type": "execute_result",
          "data": {
            "text/plain": [
              "['eval.tfrecord-00005-of-00010',\n",
              " 'training.tfrecord-00003-of-00010',\n",
              " 'eval.tfrecord-00009-of-00010',\n",
              " 'training.tfrecord.classes',\n",
              " 'training.tfrecord-00001-of-00010',\n",
              " 'training.tfrecord-00005-of-00010',\n",
              " 'eval.tfrecord-00000-of-00010',\n",
              " 'training.tfrecord-00008-of-00010',\n",
              " 'eval.tfrecord-00008-of-00010',\n",
              " 'training.tfrecord-00004-of-00010',\n",
              " 'training.tfrecord-00007-of-00010',\n",
              " 'quickdraw_tutorial_dataset_v1.tar.gz',\n",
              " 'eval.tfrecord-00003-of-00010',\n",
              " 'eval.tfrecord-00006-of-00010',\n",
              " 'eval.tfrecord-00002-of-00010',\n",
              " 'eval.tfrecord-00004-of-00010',\n",
              " 'training.tfrecord-00000-of-00010',\n",
              " 'eval.tfrecord.classes',\n",
              " 'eval.tfrecord-00001-of-00010',\n",
              " 'training.tfrecord-00006-of-00010',\n",
              " 'training.tfrecord-00002-of-00010',\n",
              " 'eval.tfrecord-00007-of-00010',\n",
              " 'training.tfrecord-00009-of-00010']"
            ]
          },
          "metadata": {
            "tags": []
          },
          "execution_count": 2
        }
      ]
    },
    {
      "cell_type": "code",
      "metadata": {
        "id": "M5JLy6LnXqPT"
      },
      "source": [
        "\n",
        "train_files = sorted([str(path) for path in quickdraw_dir.glob(\"training.tfrecord-*\")])\n",
        "test_files = sorted([str(path) for path in quickdraw_dir.glob(\"eval.tfrecord-*\")])"
      ],
      "execution_count": null,
      "outputs": []
    },
    {
      "cell_type": "code",
      "metadata": {
        "colab": {
          "base_uri": "https://localhost:8080/"
        },
        "id": "1iP83HpgXqPT",
        "outputId": "831f5c5b-3816-4da2-fd26-e4479bee5c3e"
      },
      "source": [
        "with open(quickdraw_dir / \"training.tfrecord.classes\") as train_classes_file:\n",
        "    names = train_classes_file.readlines()\n",
        "names[:5]"
      ],
      "execution_count": null,
      "outputs": [
        {
          "output_type": "execute_result",
          "data": {
            "text/plain": [
              "['garden hose\\n', 'lighter\\n', 'penguin\\n', 'tractor\\n', 'sheep\\n']"
            ]
          },
          "metadata": {
            "tags": []
          },
          "execution_count": 4
        }
      ]
    },
    {
      "cell_type": "code",
      "metadata": {
        "colab": {
          "base_uri": "https://localhost:8080/"
        },
        "id": "ebjtwZnxXqPT",
        "outputId": "0191453e-6f4c-491f-c36f-e7671e4fef8b"
      },
      "source": [
        "with open(quickdraw_dir / \"eval.tfrecord.classes\") as test_classes_file:\n",
        "    test_names = test_classes_file.readlines()\n",
        "names == test_names"
      ],
      "execution_count": null,
      "outputs": [
        {
          "output_type": "execute_result",
          "data": {
            "text/plain": [
              "True"
            ]
          },
          "metadata": {
            "tags": []
          },
          "execution_count": 5
        }
      ]
    },
    {
      "cell_type": "code",
      "metadata": {
        "colab": {
          "base_uri": "https://localhost:8080/"
        },
        "id": "XNpHI3V-XqPT",
        "outputId": "e201746d-91c8-45c4-d884-0ad5eeb50bc8"
      },
      "source": [
        "names = [name.strip() for name in names]\n",
        "names[:5],len(names)\n"
      ],
      "execution_count": null,
      "outputs": [
        {
          "output_type": "execute_result",
          "data": {
            "text/plain": [
              "(['garden hose', 'lighter', 'penguin', 'tractor', 'sheep'], 345)"
            ]
          },
          "metadata": {
            "tags": []
          },
          "execution_count": 6
        }
      ]
    },
    {
      "cell_type": "code",
      "metadata": {
        "id": "dq37He_UXqPU"
      },
      "source": [
        "import tensorflow as tf\n",
        "\n",
        "batch_size = 32\n",
        "\n",
        "train_set = tf.data.TFRecordDataset(train_files).batch(batch_size)\n",
        "test_set = tf.data.TFRecordDataset(test_files).batch(batch_size)"
      ],
      "execution_count": null,
      "outputs": []
    },
    {
      "cell_type": "markdown",
      "metadata": {
        "collapsed": false,
        "id": "jFyTvYMPXqPU"
      },
      "source": [
        "len([_ for _ in train_set.as_numpy_iterator()]), \\\n",
        "len([_ for _ in test_set.as_numpy_iterator()])\n",
        "\n",
        "Result: (107813, 10782)"
      ]
    },
    {
      "cell_type": "code",
      "metadata": {
        "id": "bk6fomSqXqPU"
      },
      "source": [
        "# train_set = tf.data.TFRecordDataset(train_files[2:]).batch(batch_size)\n",
        "valid_set = tf.data.TFRecordDataset(test_files[:5]).batch(batch_size)\n",
        "test_set = tf.data.TFRecordDataset(test_files[5:]).batch(batch_size)"
      ],
      "execution_count": null,
      "outputs": []
    },
    {
      "cell_type": "code",
      "metadata": {
        "colab": {
          "base_uri": "https://localhost:8080/"
        },
        "id": "-9sRTfjGXqPU",
        "outputId": "0c7e79cc-36bf-413c-db7d-9751dc8fcac0"
      },
      "source": [
        "\n",
        "for x in train_set.take(1):\n",
        "    for y in x:\n",
        "        print(y.numpy())\n",
        "        break"
      ],
      "execution_count": null,
      "outputs": [
        {
          "output_type": "stream",
          "text": [
            "b'\\n\\xcc\\x05\\n\\xa2\\x05\\n\\x03ink\\x12\\x9a\\x05\\x12\\x97\\x05\\n\\x94\\x05\\x80B\\xa1<\\xa0\\xb6P=\\x00\\x00\\x00\\x00\\x10\\x02\\x01= r\\x02=\\x00\\x00\\x00\\x00\\xe8\\xf3\\xf9=\\x80\\xb6P\\xbc\\x00\\x00\\x00\\x00 \\x12\\x89=\\xa0\\xb6P\\xbd\\x00\\x00\\x00\\x00\\x00\\x02\\x81\\xbc\\xda\\xf7\\x08\\xbe\\x00\\x00\\x00\\x00\\x90\\xc3a\\xbd\\xcc\\x9f6\\xbe\\x00\\x00\\x00\\x00\\x00\\x83A\\xbd\\xcc\\x9f6\\xbd\\x00\\x00\\x00\\x00\\xc0b1\\xbd\\xa0\\xb6\\xd0\\xbb\\x00\\x00\\x00\\x00\\xd0\\xe3q\\xbd\\xa0\\xb6P=\\x00\\x00\\x00\\x00\\xe4r\\xb9\\xbd6\\xabC>\\x00\\x00\\x00\\x00\\x00\\x02\\x81\\xbbp\\xcd\\xea=\\x00\\x00\\x00\\x00\\x08\\x83A=\\xa8\\xe2\\xb9>\\x00\\x00\\x00\\x00\\x80B!=\\xa0\\xb6P=\\x00\\x00\\x00\\x00\\x90\\xc3a=\\x80\\xb6P<\\x00\\x00\\x00\\x00\\x88\\xc3\\xe1= r\\x02\\xbd\\x00\\x00\\x00\\x00@\\xa3Q=\\xd0\\x9f6\\xbd\\x00\\x00\\x00\\x00\\x84B!>T<W\\xbe\\x00\\x00\\x00\\x00\\x08\\x83\\xc1=\\x08\\xc2\\xdd\\xbd\\x00\\x00\\x00\\x00\\x00\\x02\\x81;(r\\x82\\xbd\\x00\\x00\\x00\\x00\\xc0b1\\xbd\\xa0\\xb6P\\xbe\\x00\\x00\\x00\\x00\\x90\\xc3a\\xbd\\x8d}\\x0f\\xbe\\x00\\x00\\x00\\x00\\x00\\x02\\x81\\xbdb\\x94\\xa9\\xbd\\x00\\x00\\x00\\x00(\\x93I\\xbet\\xcd\\xea\\xbd\\x00\\x00\\x00\\x00t:\\x1d\\xbe\\x00\\x00\\x00\\x00\\x00\\x00\\x00\\x00D\"\\x91\\xbd$r\\x02=\\x00\\x00\\x00\\x00V*\\x15\\xbe6\\xabC>\\x00\\x00\\x00\\x00\\x02\\x02\\x81\\xbd$r\\x02=\\x00\\x00\\x00\\x00\\xc6b\\xb1\\xbd$r\\x02\\xbd\\x00\\x00\\x00\\x00\\xa6R\\xa9\\xbd6\\xabC\\xbe\\x00\\x00\\x00\\x00\\x06\\x83A\\xbc\\xa0\\xb6P\\xbc\\x00\\x00\\x00\\x00\\x87\\xc3\\xe1\\xbc\\xa0\\xb6\\xd0<\\x00\\x00\\x00\\x00\\x04\\x02\\x81;\\x81%=>\\x00\\x00\\x00\\x00\\x86B!=\\xb4:\\x8c>\\x00\\x00\\x00\\x00\\x88\\xc3\\xe1<\\xb0\\xb6\\xd0\\xbc\\x00\\x00\\x00\\x00\\x00\\x83A<\\x8c}\\x8f\\xbd\\x00\\x00\\x00\\x00\\x86B!=\\x90}\\x8f\\xbd\\x00\\x00\\x00\\x00\\xb6Z->\\xf8\\x88\\x1c\\xbd\\x00\\x00\\x00\\x00\\xd4j5>\\x9e\\xb6\\xd0\\xbd\\x00\\x00\\x00\\x00\\x16\\x8bE>$r\\x82\\xbd\\x00\\x00\\x00\\x00\\x90\\xc3a=\\xa0\\xb6\\xd0<\\x00\\x00\\x00\\x00\\xe0r\\xb9=\\xcb\\x9f6>\\x00\\x00\\x00\\x00\\x10\\x02\\x01=\\x80%=>\\x00\\x00\\x00\\x00\\x00\\x02\\x81\\xbcx\\xcd\\xea=\\x00\\x00\\x00\\x00\\xd0\\xe3q\\xbd$r\\x02>\\x00\\x00\\x00\\x00\\xc8b\\xb1\\xbd$r\\x02>\\x00\\x00\\x00\\x00\\x80\\xc3a\\xbd\\xa0\\xb6\\xd0<\\x00\\x00\\x00\\x00(\\x12\\x89\\xbd\\x00\\x89\\x9c\\xbc\\x00\\x00\\x00\\x00\\x00\\x83A\\xbd\\xd8\\xf7\\x08\\xbe\\x00\\x00\\x00\\x00\\x00\\x83\\xc1\\xbc\\xf8\\x88\\x1c\\xbe\\x00\\x00\\x00\\x00\\x80B\\xa1<\\x90}\\x8f\\xbd\\x00\\x00\\x00\\x00\\x80\\xc3\\xe1<\\xa0\\xb6\\xd0\\xbc\\x00\\x00\\x00\\x00h2\\x99=\\x00\\x89\\x1c=\\x00\\x00\\x00\\x00\\x00\\x83A< r\\x02=\\x00\\x00\\x00\\x00\\x00\\x83A\\xbd\\x80\\xb6P<\\x00\\x00\\x00\\x00P\\xa3Q\\xbd\\xc0\\x9f6\\xbd\\x00\\x00\\x80?\\n\\x14\\n\\x0bclass_index\\x12\\x05\\x1a\\x03\\n\\x01\\x00\\n\\x0f\\n\\x05shape\\x12\\x06\\x1a\\x04\\n\\x027\\x03'\n"
          ],
          "name": "stdout"
        }
      ]
    },
    {
      "cell_type": "code",
      "metadata": {
        "id": "us-fgZWsXqPU"
      },
      "source": [
        "def parse(data_batch):\n",
        "    feature_descriptions = {\n",
        "        \"ink\": tf.io.VarLenFeature(dtype=tf.float32),\n",
        "        \"shape\": tf.io.FixedLenFeature([2], dtype=tf.int64),\n",
        "        \"class_index\": tf.io.FixedLenFeature([1], dtype=tf.int64)\n",
        "    }\n",
        "    examples = tf.io.parse_example(data_batch, feature_descriptions)\n",
        "    sketches = tf.reshape(tf.sparse.to_dense(examples[\"ink\"]),\n",
        "                          (tf.size(data_batch), -1, 3))\n",
        "    labels = examples[\"class_index\"]\n",
        "    return sketches, labels[:, 0]\n",
        "\n",
        "train_set = train_set.map(parse)\n",
        "valid_set = valid_set.map(parse)\n",
        "test_set = test_set.map(parse)"
      ],
      "execution_count": null,
      "outputs": []
    },
    {
      "cell_type": "code",
      "metadata": {
        "colab": {
          "base_uri": "https://localhost:8080/"
        },
        "id": "5no4YekvXqPV",
        "outputId": "caaf20d0-a31f-473b-c517-66f8836a5322"
      },
      "source": [
        "for ink, class_index in train_set.take(1):\n",
        "    print(\"ink crop\\n\", ink[0][:5],\n",
        "          \"\\nclass_index\\n\", class_index[0])\n",
        "    break"
      ],
      "execution_count": null,
      "outputs": [
        {
          "output_type": "stream",
          "text": [
            "ink crop\n",
            " tf.Tensor(\n",
            "[[ 0.01968503  0.05095541  0.        ]\n",
            " [ 0.03149611  0.03184712  0.        ]\n",
            " [ 0.12204725 -0.01273882  0.        ]\n",
            " [ 0.0669291  -0.05095541  0.        ]\n",
            " [-0.01574802 -0.13375798  0.        ]], shape=(5, 3), dtype=float32) \n",
            "class_index\n",
            " tf.Tensor(0, shape=(), dtype=int64)\n"
          ],
          "name": "stdout"
        }
      ]
    },
    {
      "cell_type": "code",
      "metadata": {
        "colab": {
          "base_uri": "https://localhost:8080/"
        },
        "id": "Rc0Bjx4GXqPV",
        "outputId": "d216d2fe-67aa-4d1f-d092-cb7dd635d7c7"
      },
      "source": [
        "import numpy as np\n",
        "from collections import Counter\n",
        "\n",
        "labels = [label for _,label in valid_set.take(500)]\n",
        "class_indexes = np.concatenate(labels)\n",
        "index_counts = Counter(class_indexes)\n",
        "min(index_counts.values()), max(index_counts.values())\n"
      ],
      "execution_count": null,
      "outputs": [
        {
          "output_type": "execute_result",
          "data": {
            "text/plain": [
              "(30, 66)"
            ]
          },
          "metadata": {
            "tags": []
          },
          "execution_count": 12
        }
      ]
    },
    {
      "cell_type": "code",
      "metadata": {
        "colab": {
          "base_uri": "https://localhost:8080/",
          "height": 297
        },
        "id": "bdlzzV3CXqPV",
        "outputId": "cd2c2212-0200-4908-eb5a-ef5e89faf9b9"
      },
      "source": [
        "import matplotlib.pyplot as plt\n",
        "\n",
        "def draw_image(ink, label):\n",
        "    origin_points = [[0., 0., 0.]]\n",
        "    points = np.r_[origin_points, ink]\n",
        "    line_indices = np.argwhere(points[:, -1])[:,0]\n",
        "    coordinates = np.cumsum(points[:, :2], axis=0)\n",
        "    strokes = np.split(coordinates, line_indices + 1)\n",
        "    plt.plot(coordinates[:, 0], -coordinates[:, 1])\n",
        "    \n",
        "    for stroke in strokes:\n",
        "       plt.plot(stroke[:, 0], -stroke[:, 1])\n",
        "\n",
        "    plt.axis(\"off\")\n",
        "    plt.title(names[label])\n",
        "\n",
        "for inks,labels in train_set.take(1):\n",
        "    for i in range(8):\n",
        "        plt.subplot(2, 4, i+1)\n",
        "        draw_image(inks[i], labels[i])\n",
        "        plt.tight_layout()\n",
        "\n",
        "plt.show()"
      ],
      "execution_count": null,
      "outputs": [
        {
          "output_type": "display_data",
          "data": {
            "image/png": "[encoded data removed]",
            "text/plain": [
              "<Figure size 432x288 with 8 Axes>"
            ]
          },
          "metadata": {
            "tags": []
          }
        }
      ]
    },
    {
      "cell_type": "code",
      "metadata": {
        "colab": {
          "base_uri": "https://localhost:8080/",
          "height": 265
        },
        "id": "1HbvGSxyXqPV",
        "outputId": "b03fb383-180a-4592-845e-fe8da0e212ba"
      },
      "source": [
        "import seaborn as sns\n",
        "sample_lengths = [len(samples[0]) for samples,_ in train_set.take(1000)]\n",
        "sns.histplot(x=sample_lengths, binwidth=25, stat=\"density\")\n",
        "plt.show()"
      ],
      "execution_count": null,
      "outputs": [
        {
          "output_type": "display_data",
          "data": {
            "image/png": "[encoded data removed]",
            "text/plain": [
              "<Figure size 432x288 with 1 Axes>"
            ]
          },
          "metadata": {
            "tags": []
          }
        }
      ]
    },
    {
      "cell_type": "code",
      "metadata": {
        "id": "lxbUdaXAXqPV"
      },
      "source": [
        "# def reshape(inks, labels):\n",
        "#     return inks[:, :100, :], labels\n",
        "\n",
        "# train_set.map(reshape)\n",
        "# valid_set.map(reshape)\n",
        "# test_set.map(reshape)"
      ],
      "execution_count": null,
      "outputs": []
    },
    {
      "cell_type": "code",
      "metadata": {
        "colab": {
          "base_uri": "https://localhost:8080/"
        },
        "id": "isvB5CT_XqPV",
        "outputId": "fd931de5-25c4-4644-ee0f-74f6cbe9eee2"
      },
      "source": [
        "keras.backend.clear_session()\n",
        "\n",
        "model = keras.models.Sequential([\n",
        "    keras.layers.Conv1D(64, kernel_size=5, strides=2, activation=\"relu\", input_shape=(None, 3)),\n",
        "    keras.layers.BatchNormalization(),\n",
        "    keras.layers.Conv1D(128, kernel_size=5, strides=2, activation=\"relu\"),\n",
        "    keras.layers.BatchNormalization(),\n",
        "    keras.layers.Conv1D(256, kernel_size=3, strides=2, activation=\"relu\"),\n",
        "    keras.layers.BatchNormalization(),\n",
        "    keras.layers.LSTM(256, return_sequences=True),\n",
        "    keras.layers.LSTM(256),\n",
        "    keras.layers.Dense(len(names), activation=\"softmax\")                              \n",
        "])\n",
        "\n",
        "optimizer = keras.optimizers.RMSprop(lr=1e-4)\n",
        "metric = keras.metrics.SparseTopKCategoricalAccuracy(k=2)\n",
        "model.compile(loss=\"sparse_categorical_crossentropy\",\n",
        "              optimizer=optimizer,\n",
        "              metrics=[\"accuracy\", metric])\n",
        "\n",
        "model.summary()"
      ],
      "execution_count": null,
      "outputs": [
        {
          "output_type": "stream",
          "text": [
            "Model: \"sequential\"\n",
            "_________________________________________________________________\n",
            "Layer (type)                 Output Shape              Param #   \n",
            "=================================================================\n",
            "conv1d (Conv1D)              (None, None, 64)          1024      \n",
            "_________________________________________________________________\n",
            "batch_normalization (BatchNo (None, None, 64)          256       \n",
            "_________________________________________________________________\n",
            "conv1d_1 (Conv1D)            (None, None, 128)         41088     \n",
            "_________________________________________________________________\n",
            "batch_normalization_1 (Batch (None, None, 128)         512       \n",
            "_________________________________________________________________\n",
            "conv1d_2 (Conv1D)            (None, None, 256)         98560     \n",
            "_________________________________________________________________\n",
            "batch_normalization_2 (Batch (None, None, 256)         1024      \n",
            "_________________________________________________________________\n",
            "lstm (LSTM)                  (None, None, 256)         525312    \n",
            "_________________________________________________________________\n",
            "lstm_1 (LSTM)                (None, 256)               525312    \n",
            "_________________________________________________________________\n",
            "dense (Dense)                (None, 345)               88665     \n",
            "=================================================================\n",
            "Total params: 1,281,753\n",
            "Trainable params: 1,280,857\n",
            "Non-trainable params: 896\n",
            "_________________________________________________________________\n"
          ],
          "name": "stdout"
        }
      ]
    },
    {
      "cell_type": "code",
      "metadata": {
        "colab": {
          "background_save": true,
          "base_uri": "https://localhost:8080/"
        },
        "id": "aERdWGNQeREI",
        "outputId": "4d6e4943-6ab5-433c-a352-f2d41fc3a1a2"
      },
      "source": [
        "early_stopping = keras.callbacks.EarlyStopping(patience=2, restore_best_weights=True)\n",
        "history = model.fit(train_set, epochs=7, validation_data=valid_set, callbacks=[early_stopping], verbose=2)"
      ],
      "execution_count": null,
      "outputs": [
        {
          "output_type": "stream",
          "text": [
            "Epoch 1/7\n",
            "107813/107813 - 1035s - loss: 3.3262 - accuracy: 0.3029 - sparse_top_k_categorical_accuracy: 0.4133 - val_loss: 2.3299 - val_accuracy: 0.4742 - val_sparse_top_k_categorical_accuracy: 0.6097\n",
            "Epoch 2/7\n",
            "107813/107813 - 1034s - loss: 2.1980 - accuracy: 0.5011 - sparse_top_k_categorical_accuracy: 0.6364 - val_loss: 1.9404 - val_accuracy: 0.5539 - val_sparse_top_k_categorical_accuracy: 0.6879\n",
            "Epoch 3/7\n",
            "107813/107813 - 1032s - loss: 1.9623 - accuracy: 0.5543 - sparse_top_k_categorical_accuracy: 0.6892 - val_loss: 1.8266 - val_accuracy: 0.5875 - val_sparse_top_k_categorical_accuracy: 0.7195\n",
            "Epoch 4/7\n",
            "107813/107813 - 1008s - loss: 1.8669 - accuracy: 0.5811 - sparse_top_k_categorical_accuracy: 0.7154 - val_loss: 1.7702 - val_accuracy: 0.6077 - val_sparse_top_k_categorical_accuracy: 0.7390\n",
            "Epoch 5/7\n",
            "107813/107813 - 992s - loss: 1.8026 - accuracy: 0.5979 - sparse_top_k_categorical_accuracy: 0.7311 - val_loss: 1.7405 - val_accuracy: 0.6188 - val_sparse_top_k_categorical_accuracy: 0.7483\n",
            "Epoch 6/7\n",
            "107813/107813 - 993s - loss: 1.7458 - accuracy: 0.6098 - sparse_top_k_categorical_accuracy: 0.7421 - val_loss: 1.7006 - val_accuracy: 0.6268 - val_sparse_top_k_categorical_accuracy: 0.7563\n",
            "Epoch 7/7\n",
            "107813/107813 - 987s - loss: 1.7004 - accuracy: 0.6186 - sparse_top_k_categorical_accuracy: 0.7498 - val_loss: 1.7010 - val_accuracy: 0.6298 - val_sparse_top_k_categorical_accuracy: 0.7573\n"
          ],
          "name": "stdout"
        }
      ]
    },
    {
      "cell_type": "code",
      "metadata": {
        "id": "eceF5mHPIS_N"
      },
      "source": [
        "y_test = np.concatenate([labels for _, labels in test_set])\n",
        "y_probas = model.predict(test_set)\n",
        "np.mean(keras.metrics.sparse_top_k_categorical_accuracy(y_test, y_probas, k=1))"
      ],
      "execution_count": null,
      "outputs": []
    },
    {
      "cell_type": "code",
      "metadata": {
        "id": "qb-cuYB-xUrK"
      },
      "source": [
        "from google.colab import drive\r\n",
        "\r\n",
        "# drive.mount('/content/gdrive')\r\n",
        "# model = keras.models.load_model('/content/gdrive/MyDrive/sketchRNN')\r\n",
        "# model.save('/content/gdrive/MyDrive/sketchRNNFull')"
      ],
      "execution_count": null,
      "outputs": []
    }
  ]
}